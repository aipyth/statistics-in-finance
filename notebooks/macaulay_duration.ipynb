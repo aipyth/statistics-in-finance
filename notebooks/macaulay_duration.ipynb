{
 "cells": [
  {
   "cell_type": "markdown",
   "id": "d39add43",
   "metadata": {},
   "source": [
    "# Macaulay's Duration\n",
    "\n",
    "\n",
    "The _Macaulay's Duration_ is a scalar measure that represents an average maturity (or average time) of a stream of payments.\n",
    "\n",
    "Let a stream of $n$ future cash flows associated with a debt (such as a bond)\n",
    "be $S_{t_1}, S_{t_2}, \\dots, S_{t_n}$, where $S_{t_i}$ is the payment received at time $t_i$ for $i = 1, 2, \\dots, n$.\n",
    "Each payment is discounted to the present using a constant periodic interest (discount) rate $r$:\n",
    "$$\n",
    "P_{t_i} = S_{t_i} / (1+r)^{t_i} .\n",
    "$$\n",
    "Then the Macaulay Duration $D$ is defined as the weighted average time as follows\n",
    "$$\n",
    "D = \\frac{\n",
    "  \\sum_{i=1}^{n} t_i P_{t_i}\n",
    "}{\n",
    "  \\sum_{i=1}^{n} P_{t_i}\n",
    "}\n",
    ".\n",
    "$$"
   ]
  },
  {
   "cell_type": "code",
   "execution_count": null,
   "id": "fd5218a0",
   "metadata": {},
   "outputs": [],
   "source": [
    "import numpy as np\n",
    "import pandas as pd\n",
    "import matplotlib.pyplot as plt"
   ]
  },
  {
   "cell_type": "markdown",
   "id": "3886f773",
   "metadata": {},
   "source": [
    "We illustrate the considered debt aggregation technique with a toy-model on the three (3) debt instruments:\n",
    "\n",
    "- **5-year Bullet Bond**\n",
    "    - Face value: 100\n",
    "    - Coupon: 6%\n",
    "    - Term: 5 years\n",
    "\n",
    "- **4-year Amortizing Loan**\n",
    "    - Principal: 80\n",
    "    - Rate: 5%\n",
    "    - Term: 4 years\n",
    "    - Annual payments (interest + principal) are equal\n",
    "\n",
    "- **3-year Lease Liability**\n",
    "    - Lease term: 3 years\n",
    "    - Annual rental: 30"
   ]
  },
  {
   "cell_type": "code",
   "execution_count": null,
   "id": "32bb6ffd",
   "metadata": {},
   "outputs": [],
   "source": [
    "# first debt instrument is the bullet bond that a company issues\n",
    "face_A = 100.0\n",
    "coupon_A = 0.06 * face_A\n",
    "T_A = 5\n",
    "times_A = np.arange(1, T_A + 1)\n",
    "cfs_A = np.full(T_A, coupon_A)      # cash flow is our interest\n",
    "cfs_A[-1] += face_A                 # and the paid bond price at the maturity\n",
    "\n",
    "# second one is the loan\n",
    "P_B = 80.0                  # principal payment\n",
    "r_B = 0.05                  # interest\n",
    "T_B = 4\n",
    "annuity_B = P_B * (r_B / (1 - (1 + r_B) ** -T_B))\n",
    "times_B = np.arange(1, T_B + 1)\n",
    "cfs_B = np.full(T_B, annuity_B)     # cashflows for the amortizing loan\n",
    "\n",
    "# third one --- lease\n",
    "T_C = 3\n",
    "times_C = np.arange(1, T_C + 1)\n",
    "cfs_C = np.full(T_C, 30.0)"
   ]
  },
  {
   "cell_type": "code",
   "execution_count": null,
   "id": "c9ecdc3c",
   "metadata": {},
   "outputs": [],
   "source": [
    "times = np.concatenate([times_A, times_B, times_C])\n",
    "cfs = np.concatenate([cfs_A, cfs_B, cfs_C])\n",
    "\n",
    "df = pd.DataFrame({\"t\": times, \"CF\": cfs})\n",
    "cf_table = df.groupby(\"t\", as_index=False).sum().sort_values(\"t\")\n",
    "\n",
    "cf_table"
   ]
  }
 ],
 "metadata": {
  "language_info": {
   "name": "python"
  }
 },
 "nbformat": 4,
 "nbformat_minor": 5
}
