{
 "cells": [
  {
   "cell_type": "markdown",
   "id": "d39add43",
   "metadata": {},
   "source": [
    "# Macaulay's Duration\n",
    "\n",
    "\n",
    "The _Macaulay's Duration_ is a scalar measure that represents an average maturity (or average time) of a stream of payments.\n",
    "\n",
    "Let a stream of $n$ future cash flows associated with a debt (such as a bond)\n",
    "be $S_{t_1}, S_{t_2}, \\dots, S_{t_n}$, where $S_{t_i}$ is the payment received at time $t_i$ for $i = 1, 2, \\dots, n$.\n",
    "Each payment is discounted to the present using a constant periodic interest (discount) rate $r$:\n",
    "$$\n",
    "P_{t_i} = S_{t_i} / (1+r)^{t_i} .\n",
    "$$\n",
    "Then the Macaulay Duration $D$ is defined as the weighted average time as follows\n",
    "$$\n",
    "D = \\frac{\n",
    "  \\sum_{i=1}^{n} t_i P_{t_i}\n",
    "}{\n",
    "  \\sum_{i=1}^{n} P_{t_i}\n",
    "}\n",
    ".\n",
    "$$"
   ]
  },
  {
   "cell_type": "code",
   "execution_count": 1,
   "id": "fd5218a0",
   "metadata": {},
   "outputs": [],
   "source": [
    "import numpy as np\n",
    "import pandas as pd\n",
    "import matplotlib.pyplot as plt"
   ]
  },
  {
   "cell_type": "markdown",
   "id": "3886f773",
   "metadata": {},
   "source": [
    "We illustrate the considered debt aggregation technique with a toy-model on the three (3) debt instruments:\n",
    "\n",
    "- **5-year Bullet Bond**\n",
    "    - Face value: 100\n",
    "    - Coupon: 6%\n",
    "    - Term: 5 years\n",
    "\n",
    "- **4-year Amortizing Loan**\n",
    "    - Principal: 80\n",
    "    - Rate: 5%\n",
    "    - Term: 4 years\n",
    "    - Annual payments (interest + principal) are equal\n",
    "\n",
    "- **3-year Lease Liability**\n",
    "    - Lease term: 3 years\n",
    "    - Annual rental: 30"
   ]
  },
  {
   "cell_type": "code",
   "execution_count": 2,
   "id": "32bb6ffd",
   "metadata": {},
   "outputs": [],
   "source": [
    "# first debt instrument is the bullet bond that a company issues\n",
    "face_A = 100.0\n",
    "coupon_A = 0.06 * face_A\n",
    "T_A = 5\n",
    "times_A = np.arange(1, T_A + 1)\n",
    "cfs_A = np.full(T_A, coupon_A)      # cash flow is our interest\n",
    "cfs_A[-1] += face_A                 # and the paid bond price at the maturity\n",
    "\n",
    "# second one is the loan\n",
    "P_B = 80.0                  # principal payment\n",
    "r_B = 0.05                  # interest\n",
    "T_B = 4\n",
    "annuity_B = P_B * (r_B / (1 - (1 + r_B) ** -T_B))\n",
    "times_B = np.arange(1, T_B + 1)\n",
    "cfs_B = np.full(T_B, annuity_B)     # cashflows for the amortizing loan\n",
    "\n",
    "# third one --- lease\n",
    "T_C = 3\n",
    "times_C = np.arange(1, T_C + 1)\n",
    "cfs_C = np.full(T_C, 30.0)"
   ]
  },
  {
   "cell_type": "code",
   "execution_count": 3,
   "id": "c9ecdc3c",
   "metadata": {},
   "outputs": [
    {
     "data": {
      "text/html": [
       "<div>\n",
       "<style scoped>\n",
       "    .dataframe tbody tr th:only-of-type {\n",
       "        vertical-align: middle;\n",
       "    }\n",
       "\n",
       "    .dataframe tbody tr th {\n",
       "        vertical-align: top;\n",
       "    }\n",
       "\n",
       "    .dataframe thead th {\n",
       "        text-align: right;\n",
       "    }\n",
       "</style>\n",
       "<table border=\"1\" class=\"dataframe\">\n",
       "  <thead>\n",
       "    <tr style=\"text-align: right;\">\n",
       "      <th></th>\n",
       "      <th>t</th>\n",
       "      <th>CF</th>\n",
       "    </tr>\n",
       "  </thead>\n",
       "  <tbody>\n",
       "    <tr>\n",
       "      <th>0</th>\n",
       "      <td>1</td>\n",
       "      <td>58.560947</td>\n",
       "    </tr>\n",
       "    <tr>\n",
       "      <th>1</th>\n",
       "      <td>2</td>\n",
       "      <td>58.560947</td>\n",
       "    </tr>\n",
       "    <tr>\n",
       "      <th>2</th>\n",
       "      <td>3</td>\n",
       "      <td>58.560947</td>\n",
       "    </tr>\n",
       "    <tr>\n",
       "      <th>3</th>\n",
       "      <td>4</td>\n",
       "      <td>28.560947</td>\n",
       "    </tr>\n",
       "    <tr>\n",
       "      <th>4</th>\n",
       "      <td>5</td>\n",
       "      <td>106.000000</td>\n",
       "    </tr>\n",
       "  </tbody>\n",
       "</table>\n",
       "</div>"
      ],
      "text/plain": [
       "   t          CF\n",
       "0  1   58.560947\n",
       "1  2   58.560947\n",
       "2  3   58.560947\n",
       "3  4   28.560947\n",
       "4  5  106.000000"
      ]
     },
     "execution_count": 3,
     "metadata": {},
     "output_type": "execute_result"
    }
   ],
   "source": [
    "times = np.concatenate([times_A, times_B, times_C])\n",
    "cfs = np.concatenate([cfs_A, cfs_B, cfs_C])\n",
    "\n",
    "df = pd.DataFrame({\"t\": times, \"CF\": cfs})\n",
    "cf_table = df.groupby(\"t\", as_index=False).sum().sort_values(\"t\")\n",
    "\n",
    "cf_table"
   ]
  },
  {
   "cell_type": "code",
   "execution_count": 4,
   "id": "735a4c67-29d3-4014-a7e7-08037ec85f76",
   "metadata": {},
   "outputs": [],
   "source": [
    "def price_cashflows(times, cashflows, r):\n",
    "    disc = 1 / (1 + r) ** times\n",
    "    return np.sum(cashflows * disc)\n",
    "\n",
    "def macaulay_duration(times, cashflows, r):\n",
    "    disc = 1 / (1 + r) ** times\n",
    "    pv = cashflows * disc\n",
    "    P = pv.sum()\n",
    "    w = pv / P\n",
    "    D_mac = np.sum(times * w)\n",
    "    return D_mac, P, w"
   ]
  },
  {
   "cell_type": "code",
   "execution_count": 5,
   "id": "c55769f5-efab-45c3-a58d-2ded250409ae",
   "metadata": {},
   "outputs": [
    {
     "name": "stdout",
     "output_type": "stream",
     "text": [
      "=== Aggregated liability cash flows ===\n",
      " t     CF\n",
      " 1  58.56\n",
      " 2  58.56\n",
      " 3  58.56\n",
      " 4  28.56\n",
      " 5 106.00\n",
      "\n",
      "=== Duration summary at r = 7.00% ===\n",
      "Price (PV of outflows): 251.0480\n",
      "Macaulay Duration (yrs): 3.0491\n"
     ]
    }
   ],
   "source": [
    "r = 0.07\n",
    "D_mac, P0, w = macaulay_duration(times, cfs, r)\n",
    "\n",
    "print(\"=== Aggregated liability cash flows ===\")\n",
    "print(cf_table.to_string(index=False, formatters={\"CF\": \"{:,.2f}\".format}))\n",
    "print(f\"\\n=== Duration summary at r = {r:.2%} ===\")\n",
    "print(f\"Price (PV of outflows): {P0:.4f}\")\n",
    "print(f\"Macaulay Duration (yrs): {D_mac:.4f}\")"
   ]
  },
  {
   "cell_type": "code",
   "execution_count": 6,
   "id": "57a18b7b-348d-49ba-b2b8-db0e8822f3c1",
   "metadata": {},
   "outputs": [
    {
     "data": {
      "image/png": "[encoded data removed]",
      "text/plain": [
       "<Figure size 640x480 with 1 Axes>"
      ]
     },
     "metadata": {},
     "output_type": "display_data"
    }
   ],
   "source": [
    "plt.figure()\n",
    "plt.bar(times, cfs)\n",
    "plt.xlabel(\"Year (t)\")\n",
    "plt.ylabel(\"Cash outflow\")\n",
    "plt.title(\"Aggregated Liability Cash Flows by Year\")\n",
    "plt.axvline(x=D_mac, color='r', linestyle='--', label='Macaulay Duration')\n",
    "plt.grid()\n",
    "plt.legend()\n",
    "plt.tight_layout()\n",
    "plt.show()"
   ]
  },
  {
   "cell_type": "code",
   "execution_count": 7,
   "id": "4bc529f3-ab78-457d-9d8c-792caacd90b8",
   "metadata": {},
   "outputs": [
    {
     "name": "stdout",
     "output_type": "stream",
     "text": [
      "Aggregated Debt for the Merton model: 308.57\n"
     ]
    }
   ],
   "source": [
    "K = (1 + r) ** D_mac * P0\n",
    "\n",
    "print(f\"Aggregated Debt for the Merton model: {K:.2f}\")"
   ]
  },
  {
   "cell_type": "code",
   "execution_count": null,
   "id": "8080efa3-3fca-4fd1-a43d-2bc0f4aaf690",
   "metadata": {},
   "outputs": [],
   "source": []
  },
  {
   "cell_type": "code",
   "execution_count": null,
   "id": "01508a68-b4a3-49ff-8c8c-525148afaf6a",
   "metadata": {},
   "outputs": [],
   "source": []
  }
 ],
 "metadata": {
  "kernelspec": {
   "display_name": "Python 3 (ipykernel)",
   "language": "python",
   "name": "python3"
  },
  "language_info": {
   "codemirror_mode": {
    "name": "ipython",
    "version": 3
   },
   "file_extension": ".py",
   "mimetype": "text/x-python",
   "name": "python",
   "nbconvert_exporter": "python",
   "pygments_lexer": "ipython3",
   "version": "3.12.1"
  }
 },
 "nbformat": 4,
 "nbformat_minor": 5
}
